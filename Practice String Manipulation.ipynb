{
 "cells": [
  {
   "cell_type": "code",
   "execution_count": 1,
   "id": "32ae8b74",
   "metadata": {},
   "outputs": [],
   "source": [
    "#Slicing"
   ]
  },
  {
   "cell_type": "code",
   "execution_count": 2,
   "id": "c10a3575",
   "metadata": {},
   "outputs": [],
   "source": [
    "s = 'hello'"
   ]
  },
  {
   "cell_type": "code",
   "execution_count": 3,
   "id": "e6104757",
   "metadata": {},
   "outputs": [],
   "source": [
    "s = s[3:8]"
   ]
  },
  {
   "cell_type": "code",
   "execution_count": 5,
   "id": "71d80d45",
   "metadata": {},
   "outputs": [
    {
     "name": "stdout",
     "output_type": "stream",
     "text": [
      "lo\n"
     ]
    }
   ],
   "source": [
    "print(s)"
   ]
  },
  {
   "cell_type": "code",
   "execution_count": 6,
   "id": "f273697d",
   "metadata": {},
   "outputs": [],
   "source": [
    "s='    hello   '"
   ]
  },
  {
   "cell_type": "code",
   "execution_count": 7,
   "id": "addd76c5",
   "metadata": {},
   "outputs": [
    {
     "data": {
      "text/plain": [
       "'    hello   '"
      ]
     },
     "execution_count": 7,
     "metadata": {},
     "output_type": "execute_result"
    }
   ],
   "source": [
    "s"
   ]
  },
  {
   "cell_type": "code",
   "execution_count": 8,
   "id": "985c17e7",
   "metadata": {},
   "outputs": [
    {
     "data": {
      "text/plain": [
       "'hello'"
      ]
     },
     "execution_count": 8,
     "metadata": {},
     "output_type": "execute_result"
    }
   ],
   "source": [
    "s.strip()"
   ]
  },
  {
   "cell_type": "code",
   "execution_count": 9,
   "id": "e092e90d",
   "metadata": {},
   "outputs": [],
   "source": [
    "s = ' kjkwf hewf    '.strip()"
   ]
  },
  {
   "cell_type": "code",
   "execution_count": 10,
   "id": "d6ab92ec",
   "metadata": {},
   "outputs": [
    {
     "data": {
      "text/plain": [
       "'kjkwf hewf'"
      ]
     },
     "execution_count": 10,
     "metadata": {},
     "output_type": "execute_result"
    }
   ],
   "source": [
    "s"
   ]
  },
  {
   "cell_type": "code",
   "execution_count": 11,
   "id": "548840ec",
   "metadata": {},
   "outputs": [],
   "source": [
    "s = '####hello#########'"
   ]
  },
  {
   "cell_type": "code",
   "execution_count": 13,
   "id": "82686b33",
   "metadata": {},
   "outputs": [
    {
     "data": {
      "text/plain": [
       "'####hello#########'"
      ]
     },
     "execution_count": 13,
     "metadata": {},
     "output_type": "execute_result"
    }
   ],
   "source": [
    "s.strip()"
   ]
  },
  {
   "cell_type": "code",
   "execution_count": 14,
   "id": "a6dd4bcd",
   "metadata": {},
   "outputs": [
    {
     "data": {
      "text/plain": [
       "'hello'"
      ]
     },
     "execution_count": 14,
     "metadata": {},
     "output_type": "execute_result"
    }
   ],
   "source": [
    "s.strip('#')"
   ]
  },
  {
   "cell_type": "code",
   "execution_count": 26,
   "id": "aa9d9df6",
   "metadata": {},
   "outputs": [],
   "source": [
    "s = ' \\n \\t hello\\n'"
   ]
  },
  {
   "cell_type": "code",
   "execution_count": 27,
   "id": "ea764e8f",
   "metadata": {},
   "outputs": [
    {
     "data": {
      "text/plain": [
       "' \\n \\t hello\\n'"
      ]
     },
     "execution_count": 27,
     "metadata": {},
     "output_type": "execute_result"
    }
   ],
   "source": [
    "s"
   ]
  },
  {
   "cell_type": "code",
   "execution_count": 29,
   "id": "b0e4e4e0",
   "metadata": {},
   "outputs": [
    {
     "data": {
      "text/plain": [
       "'hello'"
      ]
     },
     "execution_count": 29,
     "metadata": {},
     "output_type": "execute_result"
    }
   ],
   "source": [
    "s.strip('\\n \\t')"
   ]
  },
  {
   "cell_type": "code",
   "execution_count": 18,
   "id": "2aa1cab4",
   "metadata": {},
   "outputs": [],
   "source": [
    "s = '\\n \\t hello\\n'"
   ]
  },
  {
   "cell_type": "code",
   "execution_count": 19,
   "id": "539e1910",
   "metadata": {},
   "outputs": [
    {
     "data": {
      "text/plain": [
       "'\\n \\t hello\\n'"
      ]
     },
     "execution_count": 19,
     "metadata": {},
     "output_type": "execute_result"
    }
   ],
   "source": [
    "s"
   ]
  },
  {
   "cell_type": "code",
   "execution_count": 20,
   "id": "b155e16c",
   "metadata": {},
   "outputs": [
    {
     "data": {
      "text/plain": [
       "' \\t hello'"
      ]
     },
     "execution_count": 20,
     "metadata": {},
     "output_type": "execute_result"
    }
   ],
   "source": [
    "s.strip('\\n')"
   ]
  },
  {
   "cell_type": "code",
   "execution_count": 23,
   "id": "412e3e4b",
   "metadata": {},
   "outputs": [],
   "source": [
    "s = 'www.example.com'.strip('cmow.')"
   ]
  },
  {
   "cell_type": "code",
   "execution_count": 24,
   "id": "52d43b40",
   "metadata": {},
   "outputs": [
    {
     "name": "stdout",
     "output_type": "stream",
     "text": [
      "example\n"
     ]
    }
   ],
   "source": [
    "print(s)"
   ]
  },
  {
   "cell_type": "code",
   "execution_count": 30,
   "id": "5c35ebf2",
   "metadata": {},
   "outputs": [],
   "source": [
    "#lstrip"
   ]
  },
  {
   "cell_type": "code",
   "execution_count": 31,
   "id": "bccbe3cc",
   "metadata": {},
   "outputs": [],
   "source": [
    "s = ' hello '.lstrip()"
   ]
  },
  {
   "cell_type": "code",
   "execution_count": 32,
   "id": "6024254a",
   "metadata": {},
   "outputs": [
    {
     "data": {
      "text/plain": [
       "'hello '"
      ]
     },
     "execution_count": 32,
     "metadata": {},
     "output_type": "execute_result"
    }
   ],
   "source": [
    "s"
   ]
  },
  {
   "cell_type": "code",
   "execution_count": 33,
   "id": "96f5cdb0",
   "metadata": {},
   "outputs": [],
   "source": [
    "s = ' hello '.rstrip()"
   ]
  },
  {
   "cell_type": "code",
   "execution_count": 34,
   "id": "dc780c7c",
   "metadata": {},
   "outputs": [
    {
     "data": {
      "text/plain": [
       "' hello'"
      ]
     },
     "execution_count": 34,
     "metadata": {},
     "output_type": "execute_result"
    }
   ],
   "source": [
    "s"
   ]
  },
  {
   "cell_type": "code",
   "execution_count": 35,
   "id": "13576508",
   "metadata": {},
   "outputs": [],
   "source": [
    "#removeprefix & removesuffix"
   ]
  },
  {
   "cell_type": "code",
   "execution_count": 58,
   "id": "70c60a20",
   "metadata": {},
   "outputs": [],
   "source": [
    "s = 'Arthur: three!'"
   ]
  },
  {
   "cell_type": "code",
   "execution_count": 59,
   "id": "ca505dff",
   "metadata": {},
   "outputs": [
    {
     "data": {
      "text/plain": [
       "'ee!'"
      ]
     },
     "execution_count": 59,
     "metadata": {},
     "output_type": "execute_result"
    }
   ],
   "source": [
    "s.lstrip('Arthur: ')"
   ]
  },
  {
   "cell_type": "code",
   "execution_count": 39,
   "id": "b79b38fd",
   "metadata": {},
   "outputs": [],
   "source": [
    "s = 'Arthur: three!'"
   ]
  },
  {
   "cell_type": "code",
   "execution_count": 40,
   "id": "9eec4675",
   "metadata": {},
   "outputs": [
    {
     "data": {
      "text/plain": [
       "'three!'"
      ]
     },
     "execution_count": 40,
     "metadata": {},
     "output_type": "execute_result"
    }
   ],
   "source": [
    "s.removeprefix('Arthur: ')"
   ]
  },
  {
   "cell_type": "code",
   "execution_count": 43,
   "id": "884f5958",
   "metadata": {},
   "outputs": [],
   "source": [
    "s='ckdcdhdewho8eyoihweldhoew8ydiheodihodhkhdolabcsac'"
   ]
  },
  {
   "cell_type": "code",
   "execution_count": 45,
   "id": "d8b52730",
   "metadata": {},
   "outputs": [
    {
     "data": {
      "text/plain": [
       "'ckdcdhdewho8eyoihweldhoew8ydiheodihodhkhdolabcsac'"
      ]
     },
     "execution_count": 45,
     "metadata": {},
     "output_type": "execute_result"
    }
   ],
   "source": [
    "s.lstrip('aeiou')"
   ]
  },
  {
   "cell_type": "code",
   "execution_count": 49,
   "id": "7d9184d9",
   "metadata": {},
   "outputs": [],
   "source": [
    "s='    hello'"
   ]
  },
  {
   "cell_type": "code",
   "execution_count": 51,
   "id": "483bba2c",
   "metadata": {},
   "outputs": [
    {
     "data": {
      "text/plain": [
       "'hello'"
      ]
     },
     "execution_count": 51,
     "metadata": {},
     "output_type": "execute_result"
    }
   ],
   "source": [
    "s.lstrip()"
   ]
  },
  {
   "cell_type": "code",
   "execution_count": 68,
   "id": "e02bcd93",
   "metadata": {},
   "outputs": [],
   "source": [
    "s='Arthur: three!'"
   ]
  },
  {
   "cell_type": "code",
   "execution_count": 69,
   "id": "be2f165d",
   "metadata": {},
   "outputs": [
    {
     "data": {
      "text/plain": [
       "'ee!'"
      ]
     },
     "execution_count": 69,
     "metadata": {},
     "output_type": "execute_result"
    }
   ],
   "source": [
    "s.lstrip('Arthur: ')"
   ]
  },
  {
   "cell_type": "code",
   "execution_count": 70,
   "id": "30843a2a",
   "metadata": {},
   "outputs": [],
   "source": [
    "s='qwertyuiortyueieurfvfdvkjfvjfbvjbfv'"
   ]
  },
  {
   "cell_type": "code",
   "execution_count": 71,
   "id": "36af4335",
   "metadata": {},
   "outputs": [
    {
     "data": {
      "text/plain": [
       "'qwertyuiortyueieurfvfdvkjfvjfbvjbfv'"
      ]
     },
     "execution_count": 71,
     "metadata": {},
     "output_type": "execute_result"
    }
   ],
   "source": [
    "s"
   ]
  },
  {
   "cell_type": "code",
   "execution_count": 72,
   "id": "8c82c566",
   "metadata": {},
   "outputs": [
    {
     "data": {
      "text/plain": [
       "'fvfdvkjfvjfbvjbfv'"
      ]
     },
     "execution_count": 72,
     "metadata": {},
     "output_type": "execute_result"
    }
   ],
   "source": [
    "s.strip('qwertyuio')"
   ]
  },
  {
   "cell_type": "code",
   "execution_count": 77,
   "id": "57b77073",
   "metadata": {},
   "outputs": [],
   "source": [
    "s='qwerqwetyuiortyueieurfvfdvkjfvjfbvjbfv'"
   ]
  },
  {
   "cell_type": "code",
   "execution_count": 78,
   "id": "84f14efc",
   "metadata": {},
   "outputs": [
    {
     "data": {
      "text/plain": [
       "'qwerqwetyuiortyueieurfvfdvkjfvjfbvjbfv'"
      ]
     },
     "execution_count": 78,
     "metadata": {},
     "output_type": "execute_result"
    }
   ],
   "source": [
    "s"
   ]
  },
  {
   "cell_type": "code",
   "execution_count": 79,
   "id": "bb60135b",
   "metadata": {},
   "outputs": [
    {
     "data": {
      "text/plain": [
       "'rqwetyuiortyueieurfvfdvkjfvjfbvjbfv'"
      ]
     },
     "execution_count": 79,
     "metadata": {},
     "output_type": "execute_result"
    }
   ],
   "source": [
    "s.removeprefix('qwe')"
   ]
  },
  {
   "cell_type": "code",
   "execution_count": 80,
   "id": "bc0d2b6f",
   "metadata": {},
   "outputs": [
    {
     "data": {
      "text/plain": [
       "'qwerqwetyuiortyueieurfvfdvkjfvjfbvjbfv'"
      ]
     },
     "execution_count": 80,
     "metadata": {},
     "output_type": "execute_result"
    }
   ],
   "source": [
    "s"
   ]
  },
  {
   "cell_type": "code",
   "execution_count": 81,
   "id": "042d4792",
   "metadata": {},
   "outputs": [
    {
     "data": {
      "text/plain": [
       "'qwerqwetyuiortyueieurfvfdvkjfvjfbvj'"
      ]
     },
     "execution_count": 81,
     "metadata": {},
     "output_type": "execute_result"
    }
   ],
   "source": [
    "s.removesuffix('bfv')"
   ]
  },
  {
   "cell_type": "code",
   "execution_count": 82,
   "id": "f728d0f6",
   "metadata": {},
   "outputs": [],
   "source": [
    "#replace"
   ]
  },
  {
   "cell_type": "code",
   "execution_count": 83,
   "id": "b6e8b814",
   "metadata": {},
   "outputs": [],
   "source": [
    "s = 'string methods in python'"
   ]
  },
  {
   "cell_type": "code",
   "execution_count": 84,
   "id": "aaa6eac4",
   "metadata": {},
   "outputs": [
    {
     "data": {
      "text/plain": [
       "'string-methods-in-python'"
      ]
     },
     "execution_count": 84,
     "metadata": {},
     "output_type": "execute_result"
    }
   ],
   "source": [
    "s.replace(\" \",\"-\")"
   ]
  },
  {
   "cell_type": "code",
   "execution_count": 87,
   "id": "efef1c0c",
   "metadata": {},
   "outputs": [],
   "source": [
    "s=\"Srimanta Shekhar Mishra\".replace(\" \",\"-\")"
   ]
  },
  {
   "cell_type": "code",
   "execution_count": 88,
   "id": "3a8c5aa6",
   "metadata": {},
   "outputs": [
    {
     "data": {
      "text/plain": [
       "'Srimanta-Shekhar-Mishra'"
      ]
     },
     "execution_count": 88,
     "metadata": {},
     "output_type": "execute_result"
    }
   ],
   "source": [
    "s"
   ]
  },
  {
   "cell_type": "code",
   "execution_count": 89,
   "id": "c58dd8e9",
   "metadata": {},
   "outputs": [],
   "source": [
    "s=\"Hello Python, Python is a cool language, I would become a master in Python\".replace(\"Python\",\"Java\")"
   ]
  },
  {
   "cell_type": "code",
   "execution_count": 90,
   "id": "6cbe0f6a",
   "metadata": {},
   "outputs": [
    {
     "data": {
      "text/plain": [
       "'Hello Java, Java is a cool language, I would become a master in Java'"
      ]
     },
     "execution_count": 90,
     "metadata": {},
     "output_type": "execute_result"
    }
   ],
   "source": [
    "s"
   ]
  },
  {
   "cell_type": "code",
   "execution_count": 91,
   "id": "ab3895c2",
   "metadata": {},
   "outputs": [],
   "source": [
    "s= \"ckjdskc dsjbkd hdihsd dclhlc dchch chdlch dlihdlc,m cds,mcihc d d da\""
   ]
  },
  {
   "cell_type": "code",
   "execution_count": 92,
   "id": "0dc48c03",
   "metadata": {},
   "outputs": [
    {
     "data": {
      "text/plain": [
       "'ckjdskcdsjbkdhdihsddclhlcdchchchdlchdlihdlc,mcds,mcihcddda'"
      ]
     },
     "execution_count": 92,
     "metadata": {},
     "output_type": "execute_result"
    }
   ],
   "source": [
    "s.replace(\" \",\"\")"
   ]
  },
  {
   "cell_type": "code",
   "execution_count": 93,
   "id": "8d115d0c",
   "metadata": {},
   "outputs": [],
   "source": [
    "s = \"string    methods in python\""
   ]
  },
  {
   "cell_type": "code",
   "execution_count": 94,
   "id": "d85eb9c5",
   "metadata": {},
   "outputs": [],
   "source": [
    "s2 = s.replace(' ','-')"
   ]
  },
  {
   "cell_type": "code",
   "execution_count": 95,
   "id": "89ebe086",
   "metadata": {},
   "outputs": [
    {
     "data": {
      "text/plain": [
       "'string----methods-in-python'"
      ]
     },
     "execution_count": 95,
     "metadata": {},
     "output_type": "execute_result"
    }
   ],
   "source": [
    "s2"
   ]
  },
  {
   "cell_type": "code",
   "execution_count": 96,
   "id": "b665c0fb",
   "metadata": {},
   "outputs": [],
   "source": [
    "#regular expression"
   ]
  },
  {
   "cell_type": "code",
   "execution_count": 98,
   "id": "ab418e2b",
   "metadata": {},
   "outputs": [],
   "source": [
    "import re"
   ]
  },
  {
   "cell_type": "code",
   "execution_count": 99,
   "id": "07ff97ce",
   "metadata": {},
   "outputs": [
    {
     "data": {
      "text/plain": [
       "'string-methods-in-python'"
      ]
     },
     "execution_count": 99,
     "metadata": {},
     "output_type": "execute_result"
    }
   ],
   "source": [
    "re.sub(\"\\s+\",\"-\",s)"
   ]
  },
  {
   "cell_type": "code",
   "execution_count": 100,
   "id": "165e3939",
   "metadata": {},
   "outputs": [],
   "source": [
    "#split"
   ]
  },
  {
   "cell_type": "code",
   "execution_count": 103,
   "id": "add90b1f",
   "metadata": {},
   "outputs": [],
   "source": [
    "s=\"string    methods in python\""
   ]
  },
  {
   "cell_type": "code",
   "execution_count": 104,
   "id": "f630c13a",
   "metadata": {},
   "outputs": [
    {
     "data": {
      "text/plain": [
       "['string', 'methods', 'in', 'python']"
      ]
     },
     "execution_count": 104,
     "metadata": {},
     "output_type": "execute_result"
    }
   ],
   "source": [
    "s.split()"
   ]
  },
  {
   "cell_type": "code",
   "execution_count": 106,
   "id": "90dec452",
   "metadata": {},
   "outputs": [],
   "source": [
    "s = \"cb.kdscgd lc lh m0 0 k  +c + - \""
   ]
  },
  {
   "cell_type": "code",
   "execution_count": 108,
   "id": "ec43ef2e",
   "metadata": {},
   "outputs": [
    {
     "data": {
      "text/plain": [
       "['cb.kdscgd', 'lc', 'lh', 'm0', '0', 'k', '+c', '+', '-']"
      ]
     },
     "execution_count": 108,
     "metadata": {},
     "output_type": "execute_result"
    }
   ],
   "source": [
    "s.split()"
   ]
  },
  {
   "cell_type": "code",
   "execution_count": 109,
   "id": "bcee4d46",
   "metadata": {},
   "outputs": [],
   "source": [
    "s = \"monday,Tuuesday,wednesday,saturday,sunday\""
   ]
  },
  {
   "cell_type": "code",
   "execution_count": 114,
   "id": "b7464ba7",
   "metadata": {},
   "outputs": [
    {
     "data": {
      "text/plain": [
       "['monday', 'Tuuesday', 'wednesday', 'saturday,sunday']"
      ]
     },
     "execution_count": 114,
     "metadata": {},
     "output_type": "execute_result"
    }
   ],
   "source": [
    "s.split(',',maxsplit=3)"
   ]
  },
  {
   "cell_type": "code",
   "execution_count": 120,
   "id": "92d146c4",
   "metadata": {},
   "outputs": [],
   "source": [
    "s = 'string methods in python'"
   ]
  },
  {
   "cell_type": "code",
   "execution_count": 122,
   "id": "084a887e",
   "metadata": {},
   "outputs": [
    {
     "data": {
      "text/plain": [
       "['string methods in', 'python']"
      ]
     },
     "execution_count": 122,
     "metadata": {},
     "output_type": "execute_result"
    }
   ],
   "source": [
    "s.rsplit(maxsplit=1)"
   ]
  },
  {
   "cell_type": "code",
   "execution_count": 123,
   "id": "b87a59c9",
   "metadata": {},
   "outputs": [
    {
     "data": {
      "text/plain": [
       "['string', 'methods', 'in', 'python']"
      ]
     },
     "execution_count": 123,
     "metadata": {},
     "output_type": "execute_result"
    }
   ],
   "source": [
    "s.rsplit()"
   ]
  },
  {
   "cell_type": "code",
   "execution_count": 124,
   "id": "1a18c7e8",
   "metadata": {},
   "outputs": [],
   "source": [
    "#join"
   ]
  },
  {
   "cell_type": "code",
   "execution_count": 125,
   "id": "c36218bf",
   "metadata": {},
   "outputs": [],
   "source": [
    "lis = ['string','methods','in','python']"
   ]
  },
  {
   "cell_type": "code",
   "execution_count": 126,
   "id": "30760439",
   "metadata": {},
   "outputs": [
    {
     "name": "stdout",
     "output_type": "stream",
     "text": [
      "string and methods and in and python and "
     ]
    }
   ],
   "source": [
    "for i in lis:\n",
    "    print(i, \"and\",end=\" \")"
   ]
  },
  {
   "cell_type": "code",
   "execution_count": 131,
   "id": "ddfe60bc",
   "metadata": {},
   "outputs": [],
   "source": [
    "a = \" and \".join(lis)"
   ]
  },
  {
   "cell_type": "code",
   "execution_count": 132,
   "id": "14a78ae1",
   "metadata": {},
   "outputs": [
    {
     "data": {
      "text/plain": [
       "'string and methods and in and python'"
      ]
     },
     "execution_count": 132,
     "metadata": {},
     "output_type": "execute_result"
    }
   ],
   "source": [
    "a"
   ]
  },
  {
   "cell_type": "code",
   "execution_count": 135,
   "id": "10795eb1",
   "metadata": {},
   "outputs": [],
   "source": [
    "i = [20]"
   ]
  },
  {
   "cell_type": "code",
   "execution_count": 136,
   "id": "f3e1a1d4",
   "metadata": {},
   "outputs": [
    {
     "name": "stdout",
     "output_type": "stream",
     "text": [
      "20\n"
     ]
    }
   ],
   "source": [
    "for x in i:\n",
    "    print(x)"
   ]
  },
  {
   "cell_type": "code",
   "execution_count": 137,
   "id": "e14a129d",
   "metadata": {},
   "outputs": [],
   "source": [
    "s=\"python is aweSome\""
   ]
  },
  {
   "cell_type": "code",
   "execution_count": 138,
   "id": "113aeb9d",
   "metadata": {},
   "outputs": [
    {
     "data": {
      "text/plain": [
       "'python is aweSome'"
      ]
     },
     "execution_count": 138,
     "metadata": {},
     "output_type": "execute_result"
    }
   ],
   "source": [
    "s"
   ]
  },
  {
   "cell_type": "code",
   "execution_count": 139,
   "id": "50e6c103",
   "metadata": {},
   "outputs": [
    {
     "data": {
      "text/plain": [
       "'PYTHON IS AWESOME'"
      ]
     },
     "execution_count": 139,
     "metadata": {},
     "output_type": "execute_result"
    }
   ],
   "source": [
    "s.upper()"
   ]
  },
  {
   "cell_type": "code",
   "execution_count": 140,
   "id": "ed76d7f8",
   "metadata": {},
   "outputs": [
    {
     "data": {
      "text/plain": [
       "'python is awesome'"
      ]
     },
     "execution_count": 140,
     "metadata": {},
     "output_type": "execute_result"
    }
   ],
   "source": [
    "s.lower()"
   ]
  },
  {
   "cell_type": "code",
   "execution_count": 141,
   "id": "7316c1c6",
   "metadata": {},
   "outputs": [
    {
     "data": {
      "text/plain": [
       "'Python is awesome'"
      ]
     },
     "execution_count": 141,
     "metadata": {},
     "output_type": "execute_result"
    }
   ],
   "source": [
    "s.capitalize()"
   ]
  },
  {
   "cell_type": "code",
   "execution_count": 142,
   "id": "094eec1c",
   "metadata": {},
   "outputs": [
    {
     "data": {
      "text/plain": [
       "False"
      ]
     },
     "execution_count": 142,
     "metadata": {},
     "output_type": "execute_result"
    }
   ],
   "source": [
    "s.islower()"
   ]
  },
  {
   "cell_type": "code",
   "execution_count": 143,
   "id": "71e0555e",
   "metadata": {},
   "outputs": [
    {
     "data": {
      "text/plain": [
       "False"
      ]
     },
     "execution_count": 143,
     "metadata": {},
     "output_type": "execute_result"
    }
   ],
   "source": [
    "s.isupper()"
   ]
  },
  {
   "cell_type": "code",
   "execution_count": 144,
   "id": "f28eb3ab",
   "metadata": {},
   "outputs": [],
   "source": [
    "s='kcgskcc'"
   ]
  },
  {
   "cell_type": "code",
   "execution_count": 145,
   "id": "c7368a56",
   "metadata": {},
   "outputs": [
    {
     "data": {
      "text/plain": [
       "True"
      ]
     },
     "execution_count": 145,
     "metadata": {},
     "output_type": "execute_result"
    }
   ],
   "source": [
    "s.islower()"
   ]
  },
  {
   "cell_type": "code",
   "execution_count": 146,
   "id": "6e148e26",
   "metadata": {},
   "outputs": [
    {
     "data": {
      "text/plain": [
       "True"
      ]
     },
     "execution_count": 146,
     "metadata": {},
     "output_type": "execute_result"
    }
   ],
   "source": [
    "s.isalpha()"
   ]
  },
  {
   "cell_type": "code",
   "execution_count": 147,
   "id": "ee7eaeb4",
   "metadata": {},
   "outputs": [
    {
     "data": {
      "text/plain": [
       "False"
      ]
     },
     "execution_count": 147,
     "metadata": {},
     "output_type": "execute_result"
    }
   ],
   "source": [
    "s.isnumeric()"
   ]
  },
  {
   "cell_type": "code",
   "execution_count": 148,
   "id": "ba9c4d23",
   "metadata": {},
   "outputs": [
    {
     "data": {
      "text/plain": [
       "True"
      ]
     },
     "execution_count": 148,
     "metadata": {},
     "output_type": "execute_result"
    }
   ],
   "source": [
    "s.isalnum()"
   ]
  },
  {
   "cell_type": "code",
   "execution_count": 149,
   "id": "a44e0871",
   "metadata": {},
   "outputs": [],
   "source": [
    "n='hello world'.count('o')"
   ]
  },
  {
   "cell_type": "code",
   "execution_count": 150,
   "id": "1fa15dd9",
   "metadata": {},
   "outputs": [
    {
     "data": {
      "text/plain": [
       "2"
      ]
     },
     "execution_count": 150,
     "metadata": {},
     "output_type": "execute_result"
    }
   ],
   "source": [
    "n"
   ]
  },
  {
   "cell_type": "code",
   "execution_count": 151,
   "id": "9ef0c63b",
   "metadata": {},
   "outputs": [],
   "source": [
    "#find()"
   ]
  },
  {
   "cell_type": "code",
   "execution_count": 152,
   "id": "eb7c41cd",
   "metadata": {},
   "outputs": [],
   "source": [
    "s='Machine Learning'"
   ]
  },
  {
   "cell_type": "code",
   "execution_count": 153,
   "id": "de17f4db",
   "metadata": {},
   "outputs": [],
   "source": [
    "idx=s.find('a')"
   ]
  },
  {
   "cell_type": "code",
   "execution_count": 154,
   "id": "b4b3162c",
   "metadata": {},
   "outputs": [
    {
     "data": {
      "text/plain": [
       "1"
      ]
     },
     "execution_count": 154,
     "metadata": {},
     "output_type": "execute_result"
    }
   ],
   "source": [
    "idx"
   ]
  },
  {
   "cell_type": "code",
   "execution_count": 155,
   "id": "101a711c",
   "metadata": {},
   "outputs": [
    {
     "name": "stdout",
     "output_type": "stream",
     "text": [
      "achine Learning\n"
     ]
    }
   ],
   "source": [
    "print(s[idx:])"
   ]
  },
  {
   "cell_type": "code",
   "execution_count": 156,
   "id": "61779aa7",
   "metadata": {},
   "outputs": [],
   "source": [
    "idx=s.find('a',2)"
   ]
  },
  {
   "cell_type": "code",
   "execution_count": 157,
   "id": "9ae63e80",
   "metadata": {},
   "outputs": [
    {
     "data": {
      "text/plain": [
       "10"
      ]
     },
     "execution_count": 157,
     "metadata": {},
     "output_type": "execute_result"
    }
   ],
   "source": [
    "idx"
   ]
  },
  {
   "cell_type": "code",
   "execution_count": 158,
   "id": "685e6a00",
   "metadata": {},
   "outputs": [],
   "source": [
    "#rfind()"
   ]
  },
  {
   "cell_type": "code",
   "execution_count": 162,
   "id": "731e2941",
   "metadata": {},
   "outputs": [],
   "source": [
    "s= \"Machine Learning\""
   ]
  },
  {
   "cell_type": "code",
   "execution_count": 164,
   "id": "9df2dee2",
   "metadata": {},
   "outputs": [],
   "source": [
    "idx = s.rfind('a')"
   ]
  },
  {
   "cell_type": "code",
   "execution_count": 165,
   "id": "8a92e46e",
   "metadata": {},
   "outputs": [
    {
     "name": "stdout",
     "output_type": "stream",
     "text": [
      "arning\n"
     ]
    }
   ],
   "source": [
    "print(s[idx: ])"
   ]
  },
  {
   "cell_type": "code",
   "execution_count": 166,
   "id": "a04cad20",
   "metadata": {},
   "outputs": [],
   "source": [
    "#startswith/endswith"
   ]
  },
  {
   "cell_type": "code",
   "execution_count": 168,
   "id": "7d8dc63d",
   "metadata": {},
   "outputs": [],
   "source": [
    "s = 'Patrick'.startswith('P')"
   ]
  },
  {
   "cell_type": "code",
   "execution_count": 169,
   "id": "0e6030e9",
   "metadata": {},
   "outputs": [
    {
     "data": {
      "text/plain": [
       "True"
      ]
     },
     "execution_count": 169,
     "metadata": {},
     "output_type": "execute_result"
    }
   ],
   "source": [
    "s"
   ]
  },
  {
   "cell_type": "code",
   "execution_count": 176,
   "id": "6c52ef04",
   "metadata": {},
   "outputs": [],
   "source": [
    "s='Patrick'.endswith('ck')"
   ]
  },
  {
   "cell_type": "code",
   "execution_count": 177,
   "id": "5e3231c9",
   "metadata": {},
   "outputs": [
    {
     "data": {
      "text/plain": [
       "True"
      ]
     },
     "execution_count": 177,
     "metadata": {},
     "output_type": "execute_result"
    }
   ],
   "source": [
    "s"
   ]
  },
  {
   "cell_type": "code",
   "execution_count": 182,
   "id": "e3baaad4",
   "metadata": {},
   "outputs": [],
   "source": [
    "#partition"
   ]
  },
  {
   "cell_type": "code",
   "execution_count": 183,
   "id": "19084779",
   "metadata": {},
   "outputs": [],
   "source": [
    "s = 'Python is Awesome! is good'"
   ]
  },
  {
   "cell_type": "code",
   "execution_count": 184,
   "id": "ad01181e",
   "metadata": {},
   "outputs": [
    {
     "data": {
      "text/plain": [
       "('Python ', 'is', ' Awesome! is good')"
      ]
     },
     "execution_count": 184,
     "metadata": {},
     "output_type": "execute_result"
    }
   ],
   "source": [
    "s.partition('is')"
   ]
  },
  {
   "cell_type": "code",
   "execution_count": 185,
   "id": "9fae16be",
   "metadata": {},
   "outputs": [],
   "source": [
    "s= \"jsaxskxksc  kjd cndcb c \""
   ]
  },
  {
   "cell_type": "code",
   "execution_count": 186,
   "id": "7d7bc49e",
   "metadata": {},
   "outputs": [
    {
     "data": {
      "text/plain": [
       "('jsaxskxksc  kjd cndcb c ', '', '')"
      ]
     },
     "execution_count": 186,
     "metadata": {},
     "output_type": "execute_result"
    }
   ],
   "source": [
    "s.partition(\"dv\")"
   ]
  },
  {
   "cell_type": "code",
   "execution_count": 187,
   "id": "76af670f",
   "metadata": {},
   "outputs": [],
   "source": [
    "s='Python is awesome!'"
   ]
  },
  {
   "cell_type": "code",
   "execution_count": 190,
   "id": "85b5b75e",
   "metadata": {},
   "outputs": [],
   "source": [
    "#center ljust() rjust()"
   ]
  },
  {
   "cell_type": "code",
   "execution_count": 188,
   "id": "89eda5c5",
   "metadata": {},
   "outputs": [],
   "source": [
    "s=s.center(30,'-')"
   ]
  },
  {
   "cell_type": "code",
   "execution_count": 189,
   "id": "af08f395",
   "metadata": {},
   "outputs": [
    {
     "data": {
      "text/plain": [
       "'------Python is awesome!------'"
      ]
     },
     "execution_count": 189,
     "metadata": {},
     "output_type": "execute_result"
    }
   ],
   "source": [
    "s"
   ]
  },
  {
   "cell_type": "code",
   "execution_count": 191,
   "id": "5d0041d3",
   "metadata": {},
   "outputs": [],
   "source": [
    "s='Python is awesome!'"
   ]
  },
  {
   "cell_type": "code",
   "execution_count": 192,
   "id": "8305ca22",
   "metadata": {},
   "outputs": [
    {
     "data": {
      "text/plain": [
       "'Python is awesome!------------'"
      ]
     },
     "execution_count": 192,
     "metadata": {},
     "output_type": "execute_result"
    }
   ],
   "source": [
    "s.ljust(30,'-')"
   ]
  },
  {
   "cell_type": "code",
   "execution_count": 193,
   "id": "aa2cf796",
   "metadata": {},
   "outputs": [
    {
     "data": {
      "text/plain": [
       "'------------Python is awesome!'"
      ]
     },
     "execution_count": 193,
     "metadata": {},
     "output_type": "execute_result"
    }
   ],
   "source": [
    "s.rjust(30,'-')"
   ]
  },
  {
   "cell_type": "code",
   "execution_count": 194,
   "id": "e50e1202",
   "metadata": {},
   "outputs": [],
   "source": [
    "#f-strings"
   ]
  },
  {
   "cell_type": "code",
   "execution_count": 195,
   "id": "8ef7f5fe",
   "metadata": {},
   "outputs": [],
   "source": [
    "num=1"
   ]
  },
  {
   "cell_type": "code",
   "execution_count": 196,
   "id": "c468dc52",
   "metadata": {},
   "outputs": [],
   "source": [
    "code='python'"
   ]
  },
  {
   "cell_type": "code",
   "execution_count": 201,
   "id": "29bd046e",
   "metadata": {},
   "outputs": [],
   "source": [
    "s = f'{code*2} is the number {num*8} in programming!'"
   ]
  },
  {
   "cell_type": "code",
   "execution_count": 202,
   "id": "e5d7effa",
   "metadata": {},
   "outputs": [
    {
     "data": {
      "text/plain": [
       "'pythonpython is the number 8 in programming!'"
      ]
     },
     "execution_count": 202,
     "metadata": {},
     "output_type": "execute_result"
    }
   ],
   "source": [
    "s"
   ]
  },
  {
   "cell_type": "code",
   "execution_count": 205,
   "id": "3e7596d7",
   "metadata": {},
   "outputs": [],
   "source": [
    "s='HELLO WORLD'"
   ]
  },
  {
   "cell_type": "code",
   "execution_count": 206,
   "id": "b454250a",
   "metadata": {},
   "outputs": [
    {
     "data": {
      "text/plain": [
       "'hello world'"
      ]
     },
     "execution_count": 206,
     "metadata": {},
     "output_type": "execute_result"
    }
   ],
   "source": [
    "s.swapcase()"
   ]
  },
  {
   "cell_type": "code",
   "execution_count": 207,
   "id": "eca97f93",
   "metadata": {},
   "outputs": [],
   "source": [
    "s='hSjhFfbGBJkmgtEw'.swapcase()"
   ]
  },
  {
   "cell_type": "code",
   "execution_count": 208,
   "id": "5cb78468",
   "metadata": {},
   "outputs": [
    {
     "data": {
      "text/plain": [
       "'HsJHfFBgbjKMGTeW'"
      ]
     },
     "execution_count": 208,
     "metadata": {},
     "output_type": "execute_result"
    }
   ],
   "source": [
    "s"
   ]
  },
  {
   "cell_type": "code",
   "execution_count": 209,
   "id": "1206db19",
   "metadata": {},
   "outputs": [],
   "source": [
    "#zfill()"
   ]
  },
  {
   "cell_type": "code",
   "execution_count": 210,
   "id": "28e2aff2",
   "metadata": {},
   "outputs": [],
   "source": [
    "s='45'"
   ]
  },
  {
   "cell_type": "code",
   "execution_count": 211,
   "id": "004bfc0f",
   "metadata": {},
   "outputs": [
    {
     "data": {
      "text/plain": [
       "'0000045'"
      ]
     },
     "execution_count": 211,
     "metadata": {},
     "output_type": "execute_result"
    }
   ],
   "source": [
    "s.zfill(7)"
   ]
  },
  {
   "cell_type": "code",
   "execution_count": 212,
   "id": "0583476a",
   "metadata": {},
   "outputs": [],
   "source": [
    "s='-67'"
   ]
  },
  {
   "cell_type": "code",
   "execution_count": 213,
   "id": "e2773416",
   "metadata": {},
   "outputs": [
    {
     "data": {
      "text/plain": [
       "'-0067'"
      ]
     },
     "execution_count": 213,
     "metadata": {},
     "output_type": "execute_result"
    }
   ],
   "source": [
    "s.zfill(5)"
   ]
  },
  {
   "cell_type": "code",
   "execution_count": 214,
   "id": "a36e509a",
   "metadata": {},
   "outputs": [],
   "source": [
    "s=')66'"
   ]
  },
  {
   "cell_type": "code",
   "execution_count": 215,
   "id": "59f386ad",
   "metadata": {},
   "outputs": [
    {
     "data": {
      "text/plain": [
       "'0000)66'"
      ]
     },
     "execution_count": 215,
     "metadata": {},
     "output_type": "execute_result"
    }
   ],
   "source": [
    "s.zfill(7)"
   ]
  },
  {
   "cell_type": "code",
   "execution_count": 216,
   "id": "dba8df42",
   "metadata": {},
   "outputs": [],
   "source": [
    "s='skugsugc'"
   ]
  },
  {
   "cell_type": "code",
   "execution_count": 219,
   "id": "c5917d89",
   "metadata": {},
   "outputs": [
    {
     "data": {
      "text/plain": [
       "'0000000000000000000000000000000000000000000000000000000000000000000000000000000000000000000skugsugc'"
      ]
     },
     "execution_count": 219,
     "metadata": {},
     "output_type": "execute_result"
    }
   ],
   "source": [
    "s.zfill(99)"
   ]
  },
  {
   "cell_type": "code",
   "execution_count": 220,
   "id": "f3214504",
   "metadata": {},
   "outputs": [],
   "source": [
    "s='+44'"
   ]
  },
  {
   "cell_type": "code",
   "execution_count": 221,
   "id": "ac823943",
   "metadata": {},
   "outputs": [
    {
     "data": {
      "text/plain": [
       "'+0000044'"
      ]
     },
     "execution_count": 221,
     "metadata": {},
     "output_type": "execute_result"
    }
   ],
   "source": [
    "s.zfill(8)"
   ]
  },
  {
   "cell_type": "code",
   "execution_count": null,
   "id": "6500eef2",
   "metadata": {},
   "outputs": [],
   "source": []
  }
 ],
 "metadata": {
  "kernelspec": {
   "display_name": "Python 3 (ipykernel)",
   "language": "python",
   "name": "python3"
  },
  "language_info": {
   "codemirror_mode": {
    "name": "ipython",
    "version": 3
   },
   "file_extension": ".py",
   "mimetype": "text/x-python",
   "name": "python",
   "nbconvert_exporter": "python",
   "pygments_lexer": "ipython3",
   "version": "3.9.7"
  }
 },
 "nbformat": 4,
 "nbformat_minor": 5
}
